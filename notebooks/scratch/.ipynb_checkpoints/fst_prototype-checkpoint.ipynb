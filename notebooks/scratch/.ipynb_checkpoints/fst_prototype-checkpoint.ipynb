{
 "cells": [
  {
   "cell_type": "code",
   "execution_count": null,
   "metadata": {
    "collapsed": true
   },
   "outputs": [],
   "source": [
    "import sys\n",
    "sys.path.append(\"../../../\")\n",
    "sys.path.append(\"../../hyperLAI/\")\n",
    "sys.path.append(\"../../../libraries/\")\n",
    "from utils.model_utils import *\n",
    "from models.fc_model import fc_model\n",
    "from features.hyperLAIdataset import HyperLoader\n",
    "from sklearn.feature_selection import VarianceThreshold\n",
    "import torch\n",
    "from torch.utils import data\n",
    "from features.hyperLAIdataset import HyperLoader\n",
    "import numpy as np\n",
    "import pandas as pd\n",
    "import json"
   ]
  },
  {
   "cell_type": "code",
   "execution_count": null,
   "metadata": {},
   "outputs": [],
   "source": [
    "data_dir = \"/scratch/users/patelas/hyperLAI/snp_data/whole_genome/variance_filtered_500000_updated/\"\n",
    "train_inds = np.load(\"/scratch/users/patelas/hyperLAI/ancestry_training_splits/80_10_10/train_indices.npy\")\n",
    "valid_inds = np.load(\"/scratch/users/patelas/hyperLAI/ancestry_training_splits/80_10_10/valid_indices.npy\")\n",
    "test_inds = np.load(\"/scratch/users/patelas/hyperLAI/ancestry_training_splits/80_10_10/test_indices.npy\")\n",
    "all_inds = np.sort(np.concatenate([train_inds, valid_inds, test_inds]))\n",
    "print(all_inds[0], all_inds[-1])\n",
    "\n",
    "#Create the dataset\n",
    "dataset = HyperLoader(data_dir, all_inds, [0,1,2,3,4,5,6], \"all\")\n"
   ]
  },
  {
   "cell_type": "code",
   "execution_count": 3,
   "metadata": {},
   "outputs": [],
   "source": [
    "train_snps = dataset.snps[train_inds]\n",
    "train_labels = dataset.suppop_labels[train_inds]"
   ]
  },
  {
   "cell_type": "code",
   "execution_count": 5,
   "metadata": {},
   "outputs": [],
   "source": [
    "overall_vars = np.var(train_snps, axis=0)"
   ]
  },
  {
   "cell_type": "code",
   "execution_count": 10,
   "metadata": {},
   "outputs": [],
   "source": [
    "labels_group = pd.DataFrame(train_snps).groupby(train_labels)"
   ]
  },
  {
   "cell_type": "code",
   "execution_count": 13,
   "metadata": {
    "scrolled": true
   },
   "outputs": [],
   "source": [
    "pop_vars = labels_group.apply(np.var)"
   ]
  },
  {
   "cell_type": "code",
   "execution_count": 25,
   "metadata": {
    "collapsed": true
   },
   "outputs": [],
   "source": [
    "pop_freqs = labels_group.count()[0] / train_snps.shape[0]"
   ]
  },
  {
   "cell_type": "code",
   "execution_count": 29,
   "metadata": {},
   "outputs": [],
   "source": [
    "weighted_sum_vars = pop_freqs.values @ pop_vars.values"
   ]
  },
  {
   "cell_type": "code",
   "execution_count": 30,
   "metadata": {},
   "outputs": [],
   "source": [
    "fst_vals = (overall_vars - weighted_sum_vars) / overall_vars"
   ]
  },
  {
   "cell_type": "code",
   "execution_count": null,
   "metadata": {},
   "outputs": [],
   "source": [
    "def fst_filter(snp_data, indices, labels, snps_to_keep):\n",
    "    ind_snps = snp_data[indices]\n",
    "    ind_labels = labels[indices]\n",
    "    overall_vars = np.var(ind_snps, axis=0)\n",
    "    labels_group = pd.DataFrame(ind_snps).groupby(ind_labels)\n",
    "    pop_vars = labels_group.apply(np.var)\n",
    "    pop_freqs = labels_group.count()[0] / ind_snps.shape[0]\n",
    "    weighted_sum_vars = pop_freqs.values @ pop_vars.values\n",
    "    fst_vals = (overall_vars - weighted_sum_vars) / overall_vars\n",
    "    snps_preserved = np.argsort(fst_vals)[::-1][0:snps_to_keep]\n",
    "    return snps_preserved"
   ]
  },
  {
   "cell_type": "code",
   "execution_count": null,
   "metadata": {},
   "outputs": [],
   "source": [
    "fs_out = fst_filter(dataset.snps, train_inds, dataset.suppop_labels, 20)"
   ]
  },
  {
   "cell_type": "code",
   "execution_count": 65,
   "metadata": {},
   "outputs": [
    {
     "data": {
      "text/plain": [
       "array([449724, 418794, 192003,   6849, 244048, 236376, 309277, 344604,\n",
       "       326179, 424346, 304174, 387714, 401158,  47180, 452424, 468167,\n",
       "       394075, 260894, 263627, 468291])"
      ]
     },
     "execution_count": 65,
     "metadata": {},
     "output_type": "execute_result"
    }
   ],
   "source": [
    "fs_out"
   ]
  },
  {
   "cell_type": "code",
   "execution_count": 38,
   "metadata": {},
   "outputs": [
    {
     "data": {
      "text/plain": [
       "array([0.15465979, 0.09055384, 0.03989929, ..., 0.061117  , 0.21682048,\n",
       "       0.19607325])"
      ]
     },
     "execution_count": 38,
     "metadata": {},
     "output_type": "execute_result"
    }
   ],
   "source": [
    "fst_vals"
   ]
  },
  {
   "cell_type": "code",
   "execution_count": 47,
   "metadata": {},
   "outputs": [
    {
     "data": {
      "text/plain": [
       "0         0.245368\n",
       "1         0.232479\n",
       "2         0.238397\n",
       "3         0.242739\n",
       "4         0.249873\n",
       "            ...   \n",
       "499995    0.224667\n",
       "499996    0.236226\n",
       "499997    0.189493\n",
       "499998    0.229218\n",
       "499999    0.215419\n",
       "Length: 500000, dtype: float64"
      ]
     },
     "execution_count": 47,
     "metadata": {},
     "output_type": "execute_result"
    }
   ],
   "source": [
    "(pd.DataFrame(train_snps).loc[train_labels == 0]).apply(np.var)"
   ]
  },
  {
   "cell_type": "code",
   "execution_count": 48,
   "metadata": {},
   "outputs": [
    {
     "data": {
      "text/html": [
       "<div>\n",
       "<style scoped>\n",
       "    .dataframe tbody tr th:only-of-type {\n",
       "        vertical-align: middle;\n",
       "    }\n",
       "\n",
       "    .dataframe tbody tr th {\n",
       "        vertical-align: top;\n",
       "    }\n",
       "\n",
       "    .dataframe thead th {\n",
       "        text-align: right;\n",
       "    }\n",
       "</style>\n",
       "<table border=\"1\" class=\"dataframe\">\n",
       "  <thead>\n",
       "    <tr style=\"text-align: right;\">\n",
       "      <th></th>\n",
       "      <th>0</th>\n",
       "      <th>1</th>\n",
       "      <th>2</th>\n",
       "      <th>3</th>\n",
       "      <th>4</th>\n",
       "      <th>5</th>\n",
       "      <th>6</th>\n",
       "      <th>7</th>\n",
       "      <th>8</th>\n",
       "      <th>9</th>\n",
       "      <th>...</th>\n",
       "      <th>499990</th>\n",
       "      <th>499991</th>\n",
       "      <th>499992</th>\n",
       "      <th>499993</th>\n",
       "      <th>499994</th>\n",
       "      <th>499995</th>\n",
       "      <th>499996</th>\n",
       "      <th>499997</th>\n",
       "      <th>499998</th>\n",
       "      <th>499999</th>\n",
       "    </tr>\n",
       "  </thead>\n",
       "  <tbody>\n",
       "    <tr>\n",
       "      <th>0</th>\n",
       "      <td>0.245368</td>\n",
       "      <td>0.232479</td>\n",
       "      <td>0.238397</td>\n",
       "      <td>0.242739</td>\n",
       "      <td>0.249873</td>\n",
       "      <td>0.246069</td>\n",
       "      <td>0.244127</td>\n",
       "      <td>0.205190</td>\n",
       "      <td>0.223284</td>\n",
       "      <td>0.187366</td>\n",
       "      <td>...</td>\n",
       "      <td>0.245368</td>\n",
       "      <td>0.169022</td>\n",
       "      <td>0.249758</td>\n",
       "      <td>0.246712</td>\n",
       "      <td>0.249517</td>\n",
       "      <td>0.224667</td>\n",
       "      <td>0.236226</td>\n",
       "      <td>0.189493</td>\n",
       "      <td>0.229218</td>\n",
       "      <td>0.215419</td>\n",
       "    </tr>\n",
       "    <tr>\n",
       "      <th>1</th>\n",
       "      <td>0.246243</td>\n",
       "      <td>0.249740</td>\n",
       "      <td>0.249011</td>\n",
       "      <td>0.215296</td>\n",
       "      <td>0.230535</td>\n",
       "      <td>0.245190</td>\n",
       "      <td>0.249157</td>\n",
       "      <td>0.152092</td>\n",
       "      <td>0.236701</td>\n",
       "      <td>0.227257</td>\n",
       "      <td>...</td>\n",
       "      <td>0.243496</td>\n",
       "      <td>0.222934</td>\n",
       "      <td>0.245301</td>\n",
       "      <td>0.244732</td>\n",
       "      <td>0.209026</td>\n",
       "      <td>0.210000</td>\n",
       "      <td>0.242830</td>\n",
       "      <td>0.239510</td>\n",
       "      <td>0.146980</td>\n",
       "      <td>0.223463</td>\n",
       "    </tr>\n",
       "    <tr>\n",
       "      <th>2</th>\n",
       "      <td>0.179019</td>\n",
       "      <td>0.247749</td>\n",
       "      <td>0.200437</td>\n",
       "      <td>0.220576</td>\n",
       "      <td>0.212585</td>\n",
       "      <td>0.079919</td>\n",
       "      <td>0.249880</td>\n",
       "      <td>0.223027</td>\n",
       "      <td>0.247003</td>\n",
       "      <td>0.229741</td>\n",
       "      <td>...</td>\n",
       "      <td>0.240290</td>\n",
       "      <td>0.175076</td>\n",
       "      <td>0.247003</td>\n",
       "      <td>0.197134</td>\n",
       "      <td>0.249667</td>\n",
       "      <td>0.223027</td>\n",
       "      <td>0.229741</td>\n",
       "      <td>0.249667</td>\n",
       "      <td>0.014385</td>\n",
       "      <td>0.203634</td>\n",
       "    </tr>\n",
       "    <tr>\n",
       "      <th>3</th>\n",
       "      <td>0.225339</td>\n",
       "      <td>0.238850</td>\n",
       "      <td>0.249706</td>\n",
       "      <td>0.248044</td>\n",
       "      <td>0.245044</td>\n",
       "      <td>0.250000</td>\n",
       "      <td>0.246767</td>\n",
       "      <td>0.249817</td>\n",
       "      <td>0.249817</td>\n",
       "      <td>0.240499</td>\n",
       "      <td>...</td>\n",
       "      <td>0.248044</td>\n",
       "      <td>0.223608</td>\n",
       "      <td>0.245894</td>\n",
       "      <td>0.248494</td>\n",
       "      <td>0.249002</td>\n",
       "      <td>0.248494</td>\n",
       "      <td>0.241020</td>\n",
       "      <td>0.243106</td>\n",
       "      <td>0.245777</td>\n",
       "      <td>0.229407</td>\n",
       "    </tr>\n",
       "    <tr>\n",
       "      <th>4</th>\n",
       "      <td>0.124509</td>\n",
       "      <td>0.188462</td>\n",
       "      <td>0.224326</td>\n",
       "      <td>0.224634</td>\n",
       "      <td>0.153397</td>\n",
       "      <td>0.223074</td>\n",
       "      <td>0.203667</td>\n",
       "      <td>0.246419</td>\n",
       "      <td>0.249866</td>\n",
       "      <td>0.183579</td>\n",
       "      <td>...</td>\n",
       "      <td>0.196780</td>\n",
       "      <td>0.238726</td>\n",
       "      <td>0.248196</td>\n",
       "      <td>0.241234</td>\n",
       "      <td>0.043309</td>\n",
       "      <td>0.205721</td>\n",
       "      <td>0.145439</td>\n",
       "      <td>0.249940</td>\n",
       "      <td>0.172720</td>\n",
       "      <td>0.111179</td>\n",
       "    </tr>\n",
       "    <tr>\n",
       "      <th>5</th>\n",
       "      <td>0.234959</td>\n",
       "      <td>0.249199</td>\n",
       "      <td>0.210751</td>\n",
       "      <td>0.202919</td>\n",
       "      <td>0.053400</td>\n",
       "      <td>0.036312</td>\n",
       "      <td>0.239231</td>\n",
       "      <td>0.247775</td>\n",
       "      <td>0.229975</td>\n",
       "      <td>0.229975</td>\n",
       "      <td>...</td>\n",
       "      <td>0.242791</td>\n",
       "      <td>0.018512</td>\n",
       "      <td>0.164471</td>\n",
       "      <td>0.194375</td>\n",
       "      <td>0.194375</td>\n",
       "      <td>0.234959</td>\n",
       "      <td>0.185119</td>\n",
       "      <td>0.224279</td>\n",
       "      <td>0.185119</td>\n",
       "      <td>0.242791</td>\n",
       "    </tr>\n",
       "    <tr>\n",
       "      <th>6</th>\n",
       "      <td>0.220798</td>\n",
       "      <td>0.189072</td>\n",
       "      <td>0.249248</td>\n",
       "      <td>0.245723</td>\n",
       "      <td>0.243230</td>\n",
       "      <td>0.232335</td>\n",
       "      <td>0.213142</td>\n",
       "      <td>0.204597</td>\n",
       "      <td>0.216311</td>\n",
       "      <td>0.186971</td>\n",
       "      <td>...</td>\n",
       "      <td>0.241770</td>\n",
       "      <td>0.237498</td>\n",
       "      <td>0.216311</td>\n",
       "      <td>0.249248</td>\n",
       "      <td>0.240987</td>\n",
       "      <td>0.235539</td>\n",
       "      <td>0.249889</td>\n",
       "      <td>0.222222</td>\n",
       "      <td>0.241770</td>\n",
       "      <td>0.228809</td>\n",
       "    </tr>\n",
       "  </tbody>\n",
       "</table>\n",
       "<p>7 rows × 500000 columns</p>\n",
       "</div>"
      ],
      "text/plain": [
       "     0         1         2         3         4         5         6       \\\n",
       "0  0.245368  0.232479  0.238397  0.242739  0.249873  0.246069  0.244127   \n",
       "1  0.246243  0.249740  0.249011  0.215296  0.230535  0.245190  0.249157   \n",
       "2  0.179019  0.247749  0.200437  0.220576  0.212585  0.079919  0.249880   \n",
       "3  0.225339  0.238850  0.249706  0.248044  0.245044  0.250000  0.246767   \n",
       "4  0.124509  0.188462  0.224326  0.224634  0.153397  0.223074  0.203667   \n",
       "5  0.234959  0.249199  0.210751  0.202919  0.053400  0.036312  0.239231   \n",
       "6  0.220798  0.189072  0.249248  0.245723  0.243230  0.232335  0.213142   \n",
       "\n",
       "     7         8         9       ...    499990    499991    499992    499993  \\\n",
       "0  0.205190  0.223284  0.187366  ...  0.245368  0.169022  0.249758  0.246712   \n",
       "1  0.152092  0.236701  0.227257  ...  0.243496  0.222934  0.245301  0.244732   \n",
       "2  0.223027  0.247003  0.229741  ...  0.240290  0.175076  0.247003  0.197134   \n",
       "3  0.249817  0.249817  0.240499  ...  0.248044  0.223608  0.245894  0.248494   \n",
       "4  0.246419  0.249866  0.183579  ...  0.196780  0.238726  0.248196  0.241234   \n",
       "5  0.247775  0.229975  0.229975  ...  0.242791  0.018512  0.164471  0.194375   \n",
       "6  0.204597  0.216311  0.186971  ...  0.241770  0.237498  0.216311  0.249248   \n",
       "\n",
       "     499994    499995    499996    499997    499998    499999  \n",
       "0  0.249517  0.224667  0.236226  0.189493  0.229218  0.215419  \n",
       "1  0.209026  0.210000  0.242830  0.239510  0.146980  0.223463  \n",
       "2  0.249667  0.223027  0.229741  0.249667  0.014385  0.203634  \n",
       "3  0.249002  0.248494  0.241020  0.243106  0.245777  0.229407  \n",
       "4  0.043309  0.205721  0.145439  0.249940  0.172720  0.111179  \n",
       "5  0.194375  0.234959  0.185119  0.224279  0.185119  0.242791  \n",
       "6  0.240987  0.235539  0.249889  0.222222  0.241770  0.228809  \n",
       "\n",
       "[7 rows x 500000 columns]"
      ]
     },
     "execution_count": 48,
     "metadata": {},
     "output_type": "execute_result"
    }
   ],
   "source": [
    "pop_vars"
   ]
  },
  {
   "cell_type": "code",
   "execution_count": 49,
   "metadata": {},
   "outputs": [
    {
     "data": {
      "text/plain": [
       "0    0.196669\n",
       "1    0.261383\n",
       "2    0.028879\n",
       "3    0.233558\n",
       "4    0.218381\n",
       "5    0.011172\n",
       "6    0.049958\n",
       "Name: 0, dtype: float64"
      ]
     },
     "execution_count": 49,
     "metadata": {},
     "output_type": "execute_result"
    }
   ],
   "source": [
    "pop_freqs"
   ]
  },
  {
   "cell_type": "code",
   "execution_count": 50,
   "metadata": {},
   "outputs": [
    {
     "data": {
      "text/plain": [
       "0.21126561748499997"
      ]
     },
     "execution_count": 50,
     "metadata": {},
     "output_type": "execute_result"
    }
   ],
   "source": [
    "0.196669 * 0.245368 + 0.261383 * 0.246243 + 0.028879 * 0.179019 + 0.233558 * 0.225339 + 0.218381 * 0.124509 + 0.011172 * 0.234959 +0.049958 * 0.220798 \n",
    "\n",
    "\n",
    "\n",
    "\n"
   ]
  },
  {
   "cell_type": "code",
   "execution_count": 51,
   "metadata": {},
   "outputs": [
    {
     "data": {
      "text/plain": [
       "array([0.2112656 , 0.22732517, 0.23987668, ..., 0.23205043, 0.19318228,\n",
       "       0.19865891])"
      ]
     },
     "execution_count": 51,
     "metadata": {},
     "output_type": "execute_result"
    }
   ],
   "source": [
    "weighted_sum_vars"
   ]
  },
  {
   "cell_type": "code",
   "execution_count": 53,
   "metadata": {},
   "outputs": [
    {
     "data": {
      "text/plain": [
       "4744"
      ]
     },
     "execution_count": 53,
     "metadata": {},
     "output_type": "execute_result"
    }
   ],
   "source": [
    "len(train_snps)"
   ]
  },
  {
   "cell_type": "code",
   "execution_count": 52,
   "metadata": {},
   "outputs": [
    {
     "data": {
      "text/plain": [
       "0         2329\n",
       "1         2402\n",
       "2         2313\n",
       "3         2340\n",
       "4         2402\n",
       "          ... \n",
       "499995    2647\n",
       "499996    2182\n",
       "499997    2625\n",
       "499998    2098\n",
       "499999    2117\n",
       "Length: 500000, dtype: int64"
      ]
     },
     "execution_count": 52,
     "metadata": {},
     "output_type": "execute_result"
    }
   ],
   "source": [
    "pd.DataFrame(train_snps).sum(0)"
   ]
  },
  {
   "cell_type": "code",
   "execution_count": 55,
   "metadata": {},
   "outputs": [
    {
     "data": {
      "text/plain": [
       "0.24991784243663426"
      ]
     },
     "execution_count": 55,
     "metadata": {},
     "output_type": "execute_result"
    }
   ],
   "source": [
    "2329*(4744-2329) / 4744**2"
   ]
  },
  {
   "cell_type": "code",
   "execution_count": 56,
   "metadata": {},
   "outputs": [
    {
     "data": {
      "text/plain": [
       "array([0.24991784, 0.24996001, 0.24984533, ..., 0.24715586, 0.24666411,\n",
       "       0.24711071])"
      ]
     },
     "execution_count": 56,
     "metadata": {},
     "output_type": "execute_result"
    }
   ],
   "source": [
    "overall_vars"
   ]
  },
  {
   "cell_type": "code",
   "execution_count": 57,
   "metadata": {},
   "outputs": [
    {
     "data": {
      "text/plain": [
       "4.75"
      ]
     },
     "execution_count": 57,
     "metadata": {},
     "output_type": "execute_result"
    }
   ],
   "source": [
    "np.mean([4,7,3,5])"
   ]
  },
  {
   "cell_type": "code",
   "execution_count": 58,
   "metadata": {},
   "outputs": [
    {
     "data": {
      "text/plain": [
       "2.1875"
      ]
     },
     "execution_count": 58,
     "metadata": {},
     "output_type": "execute_result"
    }
   ],
   "source": [
    "np.var([4,7,3,5])"
   ]
  },
  {
   "cell_type": "code",
   "execution_count": 60,
   "metadata": {},
   "outputs": [],
   "source": [
    "mn = 1/4.75"
   ]
  },
  {
   "cell_type": "code",
   "execution_count": 61,
   "metadata": {},
   "outputs": [
    {
     "data": {
      "text/plain": [
       "17.812500000000004"
      ]
     },
     "execution_count": 61,
     "metadata": {},
     "output_type": "execute_result"
    }
   ],
   "source": [
    "(1-mn)/(mn**2)"
   ]
  },
  {
   "cell_type": "code",
   "execution_count": null,
   "metadata": {
    "collapsed": true
   },
   "outputs": [],
   "source": []
  }
 ],
 "metadata": {
  "kernelspec": {
   "display_name": "hyperLAI-env",
   "language": "python",
   "name": "hyperlai-env"
  },
  "language_info": {
   "codemirror_mode": {
    "name": "ipython",
    "version": 3
   },
   "file_extension": ".py",
   "mimetype": "text/x-python",
   "name": "python",
   "nbconvert_exporter": "python",
   "pygments_lexer": "ipython3",
   "version": "3.6.1"
  }
 },
 "nbformat": 4,
 "nbformat_minor": 2
}
