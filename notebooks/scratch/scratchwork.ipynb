{
 "cells": [
  {
   "cell_type": "code",
   "execution_count": 1,
   "metadata": {
    "collapsed": true
   },
   "outputs": [],
   "source": [
    "import sys\n",
    "sys.path.append(\"../../../\")\n",
    "sys.path.append(\"../../hyperLAI/\")\n",
    "sys.path.append(\"../../../libraries/\")\n",
    "from utils.model_utils import *\n",
    "from models.fc_model import fc_model\n",
    "from features.hyperLAIdataset import HyperLoader\n",
    "from sklearn.feature_selection import VarianceThreshold\n",
    "import torch\n",
    "from torch.utils import data\n",
    "from features.hyperLAIdataset import HyperLoader\n",
    "import numpy as np\n",
    "import json"
   ]
  },
  {
   "cell_type": "code",
   "execution_count": 2,
   "metadata": {},
   "outputs": [
    {
     "name": "stdout",
     "output_type": "stream",
     "text": [
      "start reading ...\n",
      "File read: 317408 SNPs for 3558 individuals\n",
      "done loading vcf... Shape of vcf file is :  (317408, 3558, 2) Shape of vcf names file is (3558,)\n",
      "TSV loaded Index(['Sample', 'Population code', 'Population', 'Superpopulation code',\n",
      "       'Superpopulation', 'Source', 'Latitude', 'Longitude', 'Region',\n",
      "       'Sample Alias', 'Country', 'Town', 'Single_Ancestry'],\n",
      "      dtype='object') DF shape is  (3558, 13)\n",
      "Super population code are ,  ['EUR', 'EAS', 'AMR', 'SAS', 'AFR', 'OCE', 'WAS'] 7\n",
      "Population code are ,  ['GBR', 'FIN', 'CHS', 'PUR', 'CDX', 'CLM', 'IBS', 'PEL', 'PJL', 'KHV', 'ACB', 'GWD', 'ESN', 'BEB', 'MSL', 'STU', 'ITU', 'CEU', 'YRI', 'CHB', 'JPT', 'LWK', 'ASW', 'MXL', 'TSI', 'GIH', nan] 27\n",
      "Population names are ,  ['British', 'Finnish', 'Southern Han Chinese', 'Puerto Rican', 'Dai Chinese', 'Colombian', 'Spanish', 'Peruvian', 'Punjabi', 'Kinh Vietnamese', 'African-Caribbean', 'Gambian Mandinka', 'Esan', 'Bengali', 'Mende', 'Sri Lankan', 'Indian Telugu', 'CEPH', 'Yoruba', 'Han Chinese', 'Japanese', 'Luhya', 'African-American SW', 'Mexican-American', 'Tuscan', 'Gujarati', 'Brahui', 'Balochi', 'Hazara', 'Makrani', 'Sindhi', 'Pathan', 'Kalash', 'Burusho', 'Mbuti', 'Biaka', 'Bougainville', 'French', 'PapuanSepik', 'PapuanHighlands', 'Druze', 'Bedouin', 'Sardinian', 'Palestinian', 'Cambodian', 'Han', 'Orcadian', 'Surui', 'Maya', 'Russian', 'Mandenka', 'Yakut', 'San', 'BantuSouthAfrica', 'Karitiana', 'Pima', 'Tujia', 'Bergamo_Italian', 'Yi', 'Miao', 'Oroqen', 'Daur', 'Mongolian', 'Hezhen', 'Xibo', 'Mozabite', 'NorthernHan', 'Uygur', 'Dai', 'Lahu', 'She', 'Naxi', 'Tu', 'Basque', 'Adygei', 'BantuKenya', 'Dinka', 'Mixe', 'Australian', 'Crete', 'BantuHerero', 'BantuTswana', 'Khomani_San', 'Luo', 'Masai', 'Saharawi', 'Somali', 'Chane', 'Mixtec', 'Piapoco', 'Quechua', 'Zapotec', 'Aleut', 'Altaian', 'Chukchi', 'Eskimo_Chaplin', 'Eskimo_Naukan', 'Eskimo_Sireniki', 'Even', 'Itelman', 'Kyrgyz', 'Mansi', 'Tlingit', 'Tubalar', 'Ulchi', 'Ami', 'Atayal', 'Burmese', 'Korean', 'Thai', 'Lezgin', 'Dusun', 'Hawaiian', 'Igorot', 'Maori', 'Brahmin', 'Irula', 'Kapu', 'Khonda_Dora', 'Kusunda', 'Madiga', 'Mala', 'Relli', 'Yadava', 'Abkhasian', 'Albanian', 'Armenian', 'Bulgarian', 'Chechen', 'Czech', 'Estonian', 'Georgian_Mingrelian', 'Greek', 'Hungarian', 'Icelandic', 'Iranian', 'Iraqi_Jew', 'Jordanian', 'North_Ossetian', 'Norwegian', 'Polish', 'Saami', 'Samaritan', 'Tajik', 'Turkish_Cappadocia', 'Yemenite_Jew'] 146\n"
     ]
    }
   ],
   "source": [
    "dataset = HyperLoader(\"/scratch/users/patelas/hyperLAI/snp_data/\", chromosome=22)"
   ]
  },
  {
   "cell_type": "code",
   "execution_count": 3,
   "metadata": {
    "collapsed": true
   },
   "outputs": [],
   "source": [
    "train_indices, valid_indices, test_indices = train_valid_test(len(dataset), 0.8, 0.1)"
   ]
  },
  {
   "cell_type": "code",
   "execution_count": 4,
   "metadata": {
    "collapsed": true
   },
   "outputs": [],
   "source": [
    "variance_filter(dataset, train_indices, 5000)"
   ]
  },
  {
   "cell_type": "code",
   "execution_count": null,
   "metadata": {
    "collapsed": true,
    "scrolled": true
   },
   "outputs": [],
   "source": [
    "snps_train = dataset.snps[train_indices,:]"
   ]
  },
  {
   "cell_type": "code",
   "execution_count": 5,
   "metadata": {
    "collapsed": true
   },
   "outputs": [],
   "source": [
    "vt_var = np.var(dataset.snps, axis=0)"
   ]
  },
  {
   "cell_type": "code",
   "execution_count": null,
   "metadata": {
    "collapsed": true
   },
   "outputs": [],
   "source": [
    "var_sorted = np.argsort(vt_var)[::-1]"
   ]
  },
  {
   "cell_type": "code",
   "execution_count": 7,
   "metadata": {
    "scrolled": true
   },
   "outputs": [
    {
     "data": {
      "text/plain": [
       "(5930, 5000)"
      ]
     },
     "execution_count": 7,
     "metadata": {},
     "output_type": "execute_result"
    }
   ],
   "source": [
    "dataset.snps.shape"
   ]
  },
  {
   "cell_type": "code",
   "execution_count": null,
   "metadata": {
    "collapsed": true
   },
   "outputs": [],
   "source": [
    "vt_var[77852]"
   ]
  },
  {
   "cell_type": "code",
   "execution_count": 6,
   "metadata": {},
   "outputs": [
    {
     "data": {
      "image/png": "[encoded data removed]",
      "text/plain": [
       "<Figure size 432x288 with 1 Axes>"
      ]
     },
     "metadata": {},
     "output_type": "display_data"
    }
   ],
   "source": [
    "import matplotlib.pyplot as plt\n",
    "plt.scatter(range(len(vt_var)), sorted(vt_var))\n",
    "plt.show()"
   ]
  },
  {
   "cell_type": "code",
   "execution_count": null,
   "metadata": {
    "collapsed": true
   },
   "outputs": [],
   "source": [
    "train_size = int(0.8 * len(dataset))\n",
    "valid_size = int(0.1 * len(dataset))\n",
    "test_size = len(dataset) - train_size - valid_size"
   ]
  },
  {
   "cell_type": "code",
   "execution_count": null,
   "metadata": {
    "collapsed": true
   },
   "outputs": [],
   "source": [
    "np.random.seed(0)\n",
    "indices = np.array(list(range(len(dataset))))\n",
    "np.random.shuffle(indices)\n",
    "train_indices = indices[0 : train_size]\n",
    "valid_indices = indices[train_size : train_size + valid_size]\n",
    "test_indices = indices[train_size + valid_size : ]"
   ]
  },
  {
   "cell_type": "code",
   "execution_count": null,
   "metadata": {
    "collapsed": true
   },
   "outputs": [],
   "source": [
    "# sfunc = lambda x,y: (torch.sum(x == y)).float() / len(x)\n",
    "sfunc = lambda x,y: torch.true_divide(torch.sum(x==y), len(x))"
   ]
  },
  {
   "cell_type": "code",
   "execution_count": null,
   "metadata": {
    "collapsed": true
   },
   "outputs": [],
   "source": [
    "snp_data = torch.tensor(np.random.randint(0,2,size=(4,4)))\n",
    "snp_data"
   ]
  },
  {
   "cell_type": "code",
   "execution_count": null,
   "metadata": {
    "collapsed": true
   },
   "outputs": [],
   "source": [
    "smat = make_pairwise_similarities(snp_data, sfunc)"
   ]
  },
  {
   "cell_type": "code",
   "execution_count": null,
   "metadata": {
    "collapsed": true
   },
   "outputs": [],
   "source": [
    "trips, sims = trips_and_sims(snp_data, sfunc)"
   ]
  },
  {
   "cell_type": "code",
   "execution_count": null,
   "metadata": {
    "collapsed": true
   },
   "outputs": [],
   "source": [
    "trips"
   ]
  },
  {
   "cell_type": "code",
   "execution_count": null,
   "metadata": {
    "collapsed": true
   },
   "outputs": [],
   "source": [
    "sims"
   ]
  },
  {
   "cell_type": "code",
   "execution_count": null,
   "metadata": {
    "collapsed": true
   },
   "outputs": [],
   "source": [
    "sims[[2,3],:]"
   ]
  },
  {
   "cell_type": "code",
   "execution_count": null,
   "metadata": {
    "collapsed": true
   },
   "outputs": [],
   "source": [
    "input_size=20\n",
    "num_int_layers=1\n",
    "int_layer_sizes=[5]\n",
    "embedding_size=2\n",
    "dropout_vals=[0.8]"
   ]
  },
  {
   "cell_type": "code",
   "execution_count": null,
   "metadata": {
    "collapsed": true
   },
   "outputs": [],
   "source": [
    "fctest = fc_model(input_size, num_int_layers, int_layer_sizes, embedding_size, dropout_vals)"
   ]
  },
  {
   "cell_type": "code",
   "execution_count": null,
   "metadata": {
    "collapsed": true,
    "scrolled": true
   },
   "outputs": [],
   "source": [
    "list(fctest.parameters())"
   ]
  },
  {
   "cell_type": "code",
   "execution_count": null,
   "metadata": {
    "collapsed": true
   },
   "outputs": [],
   "source": [
    "def run_epoch(model, dloader, device, sim_func, optimizer=None):\n",
    "    batch_hyp_losses = []\n",
    "    for i, (snp_data, suppop_labels, pop_labels) in enumerate(dloader):\n",
    "        if model.training:\n",
    "            assert optimizer is not None\n",
    "            optimizer.zero_grad()\n",
    "        else:\n",
    "            assert optimizer is None\n",
    "        triple_ids, similarities = trips_and_sims(snp_data, sim_func)\n",
    "        snp_data = snp_data.to(device)\n",
    "        triple_ids = triple_ids.to(device)\n",
    "        similarities = similarities.to(device)\n",
    "        embeddings_pred = model(snp_data)\n",
    "        hyp_loss = model.loss(embeddings_pred, triple_ids, similarities)\n",
    "        batch_hyp_losses.append(hyp_loss.item())\n",
    "        if model.training:\n",
    "            hyp_loss.backward()\n",
    "            optimizer.step()\n",
    "    return batch_hyp_losses\n",
    "        \n",
    "        "
   ]
  },
  {
   "cell_type": "code",
   "execution_count": null,
   "metadata": {
    "collapsed": true
   },
   "outputs": [],
   "source": [
    "def train_model(model, train_loader, valid_loader, num_epochs, learning_rate, sim_func,\n",
    "               patience, txt_writer, output_dir, early_stopping, \n",
    "                patience, early_stop_min_delta, optimizer=None):\n",
    "    device = torch.device(\"cuda\") if torch.cuda.is_available() else torch.device(\"cpu\")\n",
    "    if device == torch.device(\"cuda\"):\n",
    "        print(\"Training occurring on GPU\")\n",
    "        model = model.to(device)\n",
    "    if optimizer is None:\n",
    "        optimizer = RAdam(model.parameters(), lr=learning_rate)\n",
    "    if early_stopping:\n",
    "        valid_loss_history = []\n",
    "    best_valid_epoch_loss, best_model = float(\"inf\"), None\n",
    "    for epoch in range(num_epochs):\n",
    "        if torch.cuda.is_available:\n",
    "            torch.cuda.empty_cache()\n",
    "        model.train()\n",
    "        train_batch_losses = run_epoch(model, train_loader, device, sim_func, optimizer)\n",
    "        train_epoch_loss = np.nanmean(train_batch_losses)\n",
    "        print_and_log(\"Train: epoch %d: average loss = %6.10f\" % (epoch + 1, train_epoch_loss), txt_writer)\n",
    "        with torch.no_grad():\n",
    "            model.eval()\n",
    "            valid_batch_losses = run_epoch(model, valid_loader, device, sim_func, optimizer=None)\n",
    "        valid_epoch_loss = np.nanmean(valid_batch_losses)\n",
    "        print_and_log(\"Valid: epoch %d: average loss = %6.10f\" % (epoch + 1, valid_epoch_loss), txt_writer)\n",
    "        if valid_epoch_loss < best_valid_epoch_loss:\n",
    "            best_valid_epoch_loss = valid_epoch_loss\n",
    "            best_model = model\n",
    "            save_model(model, optimizer, valid_epoch_loss, epoch + 1, output_dir+\"model.pt\")        \n",
    "        if early_stopping:\n",
    "            if len(valid_loss_history) < patience + 1:\n",
    "                # Not enough history yet; tack on the loss\n",
    "                valid_loss_history = [valid_epoch_loss] + valid_loss_history\n",
    "            else:\n",
    "                # Tack on the new validation loss, kicking off the old one\n",
    "                valid_loss_history = \\\n",
    "                    [valid_epoch_loss] + valid_loss_history[:-1]\n",
    "            if len(valid_loss_history) == patience + 1:\n",
    "                # There is sufficient history to check for improvement\n",
    "                best_delta = np.max(np.diff(valid_loss_history))\n",
    "                if best_delta < early_stop_min_delta:\n",
    "                    break  # Not improving enough\n",
    "        txt_writer.flush()\n",
    "    \n",
    "    \n",
    "    \n",
    "    "
   ]
  },
  {
   "cell_type": "code",
   "execution_count": null,
   "metadata": {
    "collapsed": true
   },
   "outputs": [],
   "source": [
    "json_file = open(\"../../hyperLAI/models/fc_config.json\")\n",
    "vars_json = json.load(json_file)\n",
    "json_file.close()"
   ]
  },
  {
   "cell_type": "code",
   "execution_count": null,
   "metadata": {
    "collapsed": true
   },
   "outputs": [],
   "source": [
    "eval(vars_json[\"sim_func\"])(np.array([2,3]),np.array([3,3]))"
   ]
  },
  {
   "cell_type": "code",
   "execution_count": null,
   "metadata": {
    "collapsed": true
   },
   "outputs": [],
   "source": [
    "vars_json[\"restrict_labels\"]"
   ]
  },
  {
   "cell_type": "code",
   "execution_count": null,
   "metadata": {
    "collapsed": true
   },
   "outputs": [],
   "source": [
    "import sys\n",
    "sys.path.append(\"../../../\")\n",
    "sys.path.append(\"../../hyperLAI\")\n",
    "\n"
   ]
  },
  {
   "cell_type": "code",
   "execution_count": null,
   "metadata": {
    "collapsed": true
   },
   "outputs": [],
   "source": [
    "%run \"../../hyperLAI/models/train_fc_model.py\""
   ]
  },
  {
   "cell_type": "code",
   "execution_count": 6,
   "metadata": {
    "collapsed": true
   },
   "outputs": [],
   "source": [
    "dataset = HyperLoader(\"/scratch/users/patelas/hyperLAI/snp_data/whole_genome/variance_filtered_500000/\",\n",
    "                      [0,1,2,3,4,5,6], \"all\")"
   ]
  },
  {
   "cell_type": "code",
   "execution_count": 71,
   "metadata": {
    "collapsed": true
   },
   "outputs": [],
   "source": [
    "train_inds = np.load(\"/scratch/users/patelas/hyperLAI/ancestry_training_splits/80_10_10/train_indices.npy\")\n",
    "\n",
    "\n"
   ]
  },
  {
   "cell_type": "code",
   "execution_count": 72,
   "metadata": {
    "collapsed": true
   },
   "outputs": [],
   "source": [
    "hl2 = HyperLoader(\"/scratch/users/patelas/hyperLAI/snp_data/whole_genome/variance_filtered_500000_updated/\",\n",
    "                      train_inds,[0,1,2,3,4,5,6], \"all\")"
   ]
  },
  {
   "cell_type": "code",
   "execution_count": 73,
   "metadata": {},
   "outputs": [
    {
     "data": {
      "text/plain": [
       "(4744, 500000)"
      ]
     },
     "execution_count": 73,
     "metadata": {},
     "output_type": "execute_result"
    }
   ],
   "source": [
    "hl2.snps.shape"
   ]
  },
  {
   "cell_type": "code",
   "execution_count": 74,
   "metadata": {
    "collapsed": true
   },
   "outputs": [],
   "source": [
    "hl2_top = hl2.snps[:,:5]"
   ]
  },
  {
   "cell_type": "code",
   "execution_count": 75,
   "metadata": {
    "collapsed": true
   },
   "outputs": [],
   "source": [
    "hl2_bottom = hl2.snps[:,-5:]"
   ]
  },
  {
   "cell_type": "code",
   "execution_count": 76,
   "metadata": {},
   "outputs": [
    {
     "data": {
      "text/plain": [
       "array([2329, 2402, 2313, 2340, 2402])"
      ]
     },
     "execution_count": 76,
     "metadata": {},
     "output_type": "execute_result"
    }
   ],
   "source": [
    "np.sum(hl2_top, axis=0)"
   ]
  },
  {
   "cell_type": "code",
   "execution_count": 77,
   "metadata": {},
   "outputs": [
    {
     "data": {
      "text/plain": [
       "array([0.24997088, 0.24988713, 0.24984428, 0.24990761, 0.24995894])"
      ]
     },
     "execution_count": 77,
     "metadata": {},
     "output_type": "execute_result"
    }
   ],
   "source": [
    "np.var(top5_snps, axis=0)"
   ]
  },
  {
   "cell_type": "code",
   "execution_count": 78,
   "metadata": {},
   "outputs": [
    {
     "data": {
      "text/plain": [
       "array([0.24659558, 0.2484027 , 0.24750842, 0.24600098, 0.24723179])"
      ]
     },
     "execution_count": 78,
     "metadata": {},
     "output_type": "execute_result"
    }
   ],
   "source": [
    "np.var(bottom5_snps, axis=0)"
   ]
  },
  {
   "cell_type": "code",
   "execution_count": 23,
   "metadata": {
    "collapsed": true
   },
   "outputs": [],
   "source": [
    "hl = HyperLoader(\"/scratch/users/patelas/hyperLAI/snp_data/whole_genome/variance_filtered_500000/\",\n",
    "                      [0,1,2], \"all\")"
   ]
  },
  {
   "cell_type": "code",
   "execution_count": 24,
   "metadata": {},
   "outputs": [
    {
     "data": {
      "text/plain": [
       "2880"
      ]
     },
     "execution_count": 24,
     "metadata": {},
     "output_type": "execute_result"
    }
   ],
   "source": [
    "len(hl)"
   ]
  },
  {
   "cell_type": "code",
   "execution_count": 3,
   "metadata": {},
   "outputs": [
    {
     "name": "stdout",
     "output_type": "stream",
     "text": [
      "0 5929\n"
     ]
    }
   ],
   "source": [
    "data_dir = \"/scratch/users/patelas/hyperLAI/snp_data/whole_genome/variance_filtered_500000_updated/\"\n",
    "train_inds = np.load(\"/scratch/users/patelas/hyperLAI/ancestry_training_splits/80_10_10/train_indices.npy\")\n",
    "valid_inds = np.load(\"/scratch/users/patelas/hyperLAI/ancestry_training_splits/80_10_10/valid_indices.npy\")\n",
    "test_inds = np.load(\"/scratch/users/patelas/hyperLAI/ancestry_training_splits/80_10_10/test_indices.npy\")\n",
    "all_inds = np.sort(np.concatenate([train_inds, valid_inds, test_inds]))\n",
    "print(all_inds[0], all_inds[-1])\n",
    "\n",
    "#Create the dataset\n",
    "# dataset = HyperLoader(data_dir, all_inds, [0,1,2,3,4,5,6], \"all\")\n"
   ]
  },
  {
   "cell_type": "code",
   "execution_count": 17,
   "metadata": {
    "collapsed": true
   },
   "outputs": [],
   "source": [
    "top5_snps = dataset.snps[:,:5]\n",
    "bottom5_snps = dataset.snps[:,-5:]"
   ]
  },
  {
   "cell_type": "code",
   "execution_count": 67,
   "metadata": {
    "collapsed": true
   },
   "outputs": [],
   "source": [
    "np.random.seed(0)\n",
    "train_shortened = np.random.choice(train_inds, size=2000, replace=False)\n"
   ]
  },
  {
   "cell_type": "code",
   "execution_count": 86,
   "metadata": {},
   "outputs": [
    {
     "name": "stdout",
     "output_type": "stream",
     "text": [
      "[0.24997088 0.24988713 0.24984428 0.24990761 0.24995894]\n",
      "[0.24659558 0.2484027  0.24750842 0.24600098 0.24723179]\n"
     ]
    }
   ],
   "source": [
    "print(np.var(top5_snps, axis=0))\n",
    "print(np.var(bottom5_snps, axis=0))"
   ]
  },
  {
   "cell_type": "code",
   "execution_count": 68,
   "metadata": {
    "scrolled": true
   },
   "outputs": [
    {
     "data": {
      "text/plain": [
       "array([0.25, 0.25, 0.25, 0.25, 0.25])"
      ]
     },
     "execution_count": 68,
     "metadata": {},
     "output_type": "execute_result"
    }
   ],
   "source": [
    "np.var(top5_snps[train_shortened,:], axis=0)"
   ]
  },
  {
   "cell_type": "code",
   "execution_count": 69,
   "metadata": {},
   "outputs": [
    {
     "data": {
      "text/plain": [
       "array([0.247296, 0.247296, 0.247296, 0.247296, 0.247296])"
      ]
     },
     "execution_count": 69,
     "metadata": {},
     "output_type": "execute_result"
    }
   ],
   "source": [
    "np.var(bottom5_snps[train_shortened], axis=0)"
   ]
  },
  {
   "cell_type": "code",
   "execution_count": 42,
   "metadata": {},
   "outputs": [
    {
     "name": "stdout",
     "output_type": "stream",
     "text": [
      "[2933 3028 2891 2908 3003]\n",
      "[1000 1000 1000 1000 1000]\n"
     ]
    }
   ],
   "source": [
    "print(np.sum(top5_snps, axis=0))\n",
    "print(np.sum(top5_snps[train_shortened], axis=0))"
   ]
  },
  {
   "cell_type": "code",
   "execution_count": 43,
   "metadata": {},
   "outputs": [
    {
     "name": "stdout",
     "output_type": "stream",
     "text": [
      "[3311 2728 3261 2590 2653]\n",
      "[1104  896 1104  896  896]\n"
     ]
    }
   ],
   "source": [
    "print(np.sum(bottom5_snps, axis=0))\n",
    "print(np.sum(bottom5_snps[train_shortened], axis=0))"
   ]
  },
  {
   "cell_type": "code",
   "execution_count": 47,
   "metadata": {},
   "outputs": [
    {
     "name": "stdout",
     "output_type": "stream",
     "text": [
      "[2329 2402 2313 2340 2402]\n"
     ]
    }
   ],
   "source": [
    "print(np.sum(top5_snps[train_inds], axis=0))"
   ]
  },
  {
   "cell_type": "code",
   "execution_count": 35,
   "metadata": {},
   "outputs": [
    {
     "name": "stdout",
     "output_type": "stream",
     "text": [
      "0.25\n"
     ]
    }
   ],
   "source": [
    "v0 = testk2[:,0]\n",
    "v0_mean = np.mean(v0)\n",
    "print(np.sum([(int(x) - v0_mean)**2 for x in v0]) / len(v0))"
   ]
  },
  {
   "cell_type": "code",
   "execution_count": 33,
   "metadata": {},
   "outputs": [
    {
     "data": {
      "text/plain": [
       "array([False, False,  True, ..., False, False, False])"
      ]
     },
     "execution_count": 33,
     "metadata": {},
     "output_type": "execute_result"
    }
   ],
   "source": [
    "v0"
   ]
  },
  {
   "cell_type": "code",
   "execution_count": 36,
   "metadata": {},
   "outputs": [
    {
     "data": {
      "text/plain": [
       "0.5"
      ]
     },
     "execution_count": 36,
     "metadata": {},
     "output_type": "execute_result"
    }
   ],
   "source": [
    "v0_mean"
   ]
  },
  {
   "cell_type": "code",
   "execution_count": 54,
   "metadata": {},
   "outputs": [
    {
     "data": {
      "text/plain": [
       "2000"
      ]
     },
     "execution_count": 54,
     "metadata": {},
     "output_type": "execute_result"
    }
   ],
   "source": [
    "len(np.unique(train_shortened))"
   ]
  },
  {
   "cell_type": "code",
   "execution_count": 57,
   "metadata": {
    "collapsed": true
   },
   "outputs": [],
   "source": [
    "snps_shortened = dataset.snps[train_shortened]"
   ]
  },
  {
   "cell_type": "code",
   "execution_count": 58,
   "metadata": {},
   "outputs": [
    {
     "data": {
      "text/plain": [
       "array([ 896,  896,  896, ..., 1104, 1104, 1104])"
      ]
     },
     "execution_count": 58,
     "metadata": {},
     "output_type": "execute_result"
    }
   ],
   "source": [
    "np.sort(np.sum(snps_shortened, axis=0))"
   ]
  },
  {
   "cell_type": "code",
   "execution_count": 80,
   "metadata": {
    "collapsed": true
   },
   "outputs": [],
   "source": [
    "hl_eur = HyperLoader(\"/scratch/users/patelas/hyperLAI/snp_data/whole_genome/variance_filtered_500000_subpops/european/\",\n",
    "                      train_inds,[0], \"all\")"
   ]
  },
  {
   "cell_type": "code",
   "execution_count": 81,
   "metadata": {
    "collapsed": true
   },
   "outputs": [],
   "source": [
    "eur_top5 = hl_eur.snps[:,:5]\n",
    "eur_bottom5 = hl_eur.snps[:,-5:]"
   ]
  },
  {
   "cell_type": "code",
   "execution_count": 84,
   "metadata": {},
   "outputs": [
    {
     "name": "stdout",
     "output_type": "stream",
     "text": [
      "[0.24999971 0.24999971 0.24999971 0.24999971 0.24999971]\n",
      "[0.2471852 0.2471852 0.2471852 0.2471852 0.2471852]\n"
     ]
    }
   ],
   "source": [
    "print(np.var(eur_top5, axis=0))\n",
    "print(np.var(eur_bottom5, axis=0))\n"
   ]
  },
  {
   "cell_type": "code",
   "execution_count": 87,
   "metadata": {
    "collapsed": true
   },
   "outputs": [],
   "source": [
    "short_sums = np.sum(dataset.snps[train_shortened], axis=0)"
   ]
  },
  {
   "cell_type": "code",
   "execution_count": 98,
   "metadata": {},
   "outputs": [
    {
     "data": {
      "image/png": "[encoded data removed]",
      "text/plain": [
       "<Figure size 432x288 with 1 Axes>"
      ]
     },
     "metadata": {},
     "output_type": "display_data"
    }
   ],
   "source": [
    "import matplotlib.pyplot as plt\n",
    "plt.scatter(np.arange(len(short_sums)), np.sort(short_sums))\n",
    "plt.show()"
   ]
  },
  {
   "cell_type": "code",
   "execution_count": 97,
   "metadata": {},
   "outputs": [
    {
     "data": {
      "text/plain": [
       "array([1104, 1104, 1104, ..., 1103, 1103, 1103])"
      ]
     },
     "execution_count": 97,
     "metadata": {},
     "output_type": "execute_result"
    }
   ],
   "source": [
    "np.sort(short_sums)[::-1][:2000]"
   ]
  },
  {
   "cell_type": "code",
   "execution_count": 99,
   "metadata": {},
   "outputs": [
    {
     "data": {
      "text/plain": [
       "378041"
      ]
     },
     "execution_count": 99,
     "metadata": {},
     "output_type": "execute_result"
    }
   ],
   "source": [
    "np.sum(short_sums < 1050)"
   ]
  },
  {
   "cell_type": "code",
   "execution_count": 100,
   "metadata": {},
   "outputs": [
    {
     "data": {
      "text/plain": [
       "234941"
      ]
     },
     "execution_count": 100,
     "metadata": {},
     "output_type": "execute_result"
    }
   ],
   "source": [
    "np.sum(short_sums > 1000)"
   ]
  },
  {
   "cell_type": "code",
   "execution_count": 101,
   "metadata": {},
   "outputs": [
    {
     "data": {
      "text/plain": [
       "112982"
      ]
     },
     "execution_count": 101,
     "metadata": {},
     "output_type": "execute_result"
    }
   ],
   "source": [
    "378041+234941-500000"
   ]
  },
  {
   "cell_type": "code",
   "execution_count": 114,
   "metadata": {
    "collapsed": true
   },
   "outputs": [],
   "source": [
    "hl_sub = HyperLoader(\"/scratch/users/patelas/hyperLAI/snp_data/whole_genome/variance_filtered_500000_subpops/european/\",\n",
    "                      train_inds,[6], \"all\")"
   ]
  },
  {
   "cell_type": "code",
   "execution_count": 115,
   "metadata": {},
   "outputs": [
    {
     "data": {
      "text/plain": [
       "(237, 40)"
      ]
     },
     "execution_count": 115,
     "metadata": {},
     "output_type": "execute_result"
    }
   ],
   "source": [
    "len(hl_sub), hl_sub.pop_labels[2]"
   ]
  },
  {
   "cell_type": "code",
   "execution_count": 6,
   "metadata": {},
   "outputs": [
    {
     "name": "stdout",
     "output_type": "stream",
     "text": [
      "start reading ...\n",
      "File read: 317408 SNPs for 3558 individuals\n",
      "done loading vcf... Shape of vcf file is :  (317408, 3558, 2) Shape of vcf names file is (3558,)\n",
      "TSV loaded Index(['Sample', 'Population code', 'Population', 'Superpopulation code',\n",
      "       'Superpopulation', 'Source', 'Latitude', 'Longitude', 'Region',\n",
      "       'Sample Alias', 'Country', 'Town', 'Single_Ancestry'],\n",
      "      dtype='object') DF shape is  (3558, 13)\n",
      "Super population code are ,  ['EUR', 'EAS', 'AMR', 'SAS', 'AFR', 'OCE', 'WAS'] 7\n",
      "Population code are ,  ['GBR', 'FIN', 'CHS', 'PUR', 'CDX', 'CLM', 'IBS', 'PEL', 'PJL', 'KHV', 'ACB', 'GWD', 'ESN', 'BEB', 'MSL', 'STU', 'ITU', 'CEU', 'YRI', 'CHB', 'JPT', 'LWK', 'ASW', 'MXL', 'TSI', 'GIH', nan] 27\n",
      "Population names are ,  ['British', 'Finnish', 'Southern Han Chinese', 'Puerto Rican', 'Dai Chinese', 'Colombian', 'Spanish', 'Peruvian', 'Punjabi', 'Kinh Vietnamese', 'African-Caribbean', 'Gambian Mandinka', 'Esan', 'Bengali', 'Mende', 'Sri Lankan', 'Indian Telugu', 'CEPH', 'Yoruba', 'Han Chinese', 'Japanese', 'Luhya', 'African-American SW', 'Mexican-American', 'Tuscan', 'Gujarati', 'Brahui', 'Balochi', 'Hazara', 'Makrani', 'Sindhi', 'Pathan', 'Kalash', 'Burusho', 'Mbuti', 'Biaka', 'Bougainville', 'French', 'PapuanSepik', 'PapuanHighlands', 'Druze', 'Bedouin', 'Sardinian', 'Palestinian', 'Cambodian', 'Han', 'Orcadian', 'Surui', 'Maya', 'Russian', 'Mandenka', 'Yakut', 'San', 'BantuSouthAfrica', 'Karitiana', 'Pima', 'Tujia', 'Bergamo_Italian', 'Yi', 'Miao', 'Oroqen', 'Daur', 'Mongolian', 'Hezhen', 'Xibo', 'Mozabite', 'NorthernHan', 'Uygur', 'Dai', 'Lahu', 'She', 'Naxi', 'Tu', 'Basque', 'Adygei', 'BantuKenya', 'Dinka', 'Mixe', 'Australian', 'Crete', 'BantuHerero', 'BantuTswana', 'Khomani_San', 'Luo', 'Masai', 'Saharawi', 'Somali', 'Chane', 'Mixtec', 'Piapoco', 'Quechua', 'Zapotec', 'Aleut', 'Altaian', 'Chukchi', 'Eskimo_Chaplin', 'Eskimo_Naukan', 'Eskimo_Sireniki', 'Even', 'Itelman', 'Kyrgyz', 'Mansi', 'Tlingit', 'Tubalar', 'Ulchi', 'Ami', 'Atayal', 'Burmese', 'Korean', 'Thai', 'Lezgin', 'Dusun', 'Hawaiian', 'Igorot', 'Maori', 'Brahmin', 'Irula', 'Kapu', 'Khonda_Dora', 'Kusunda', 'Madiga', 'Mala', 'Relli', 'Yadava', 'Abkhasian', 'Albanian', 'Armenian', 'Bulgarian', 'Chechen', 'Czech', 'Estonian', 'Georgian_Mingrelian', 'Greek', 'Hungarian', 'Icelandic', 'Iranian', 'Iraqi_Jew', 'Jordanian', 'North_Ossetian', 'Norwegian', 'Polish', 'Saami', 'Samaritan', 'Tajik', 'Turkish_Cappadocia', 'Yemenite_Jew'] 146\n"
     ]
    }
   ],
   "source": [
    "loader22 = HyperLoader(\"/scratch/users/patelas/hyperLAI/snp_data/\",\n",
    "                      train_inds,[0,1,2,3,4,5,6], 22)"
   ]
  },
  {
   "cell_type": "code",
   "execution_count": 11,
   "metadata": {},
   "outputs": [
    {
     "data": {
      "image/png": "[encoded data removed]",
      "text/plain": [
       "<Figure size 432x288 with 1 Axes>"
      ]
     },
     "metadata": {},
     "output_type": "display_data"
    }
   ],
   "source": [
    "import matplotlib.pyplot as plt\n",
    "plt.plot(np.sort(np.var(loader22.snps, axis=0)))\n",
    "plt.show()"
   ]
  },
  {
   "cell_type": "code",
   "execution_count": 1,
   "metadata": {},
   "outputs": [
    {
     "data": {
      "text/plain": [
       "0.0002107481465893547"
      ]
     },
     "execution_count": 1,
     "metadata": {},
     "output_type": "execute_result"
    }
   ],
   "source": [
    "import numpy as np\n",
    "np.var([1] * 4743 + [0])"
   ]
  },
  {
   "cell_type": "code",
   "execution_count": null,
   "metadata": {
    "collapsed": true
   },
   "outputs": [],
   "source": []
  }
 ],
 "metadata": {
  "kernelspec": {
   "display_name": "Python 3",
   "language": "python",
   "name": "python3"
  },
  "language_info": {
   "codemirror_mode": {
    "name": "ipython",
    "version": 3
   },
   "file_extension": ".py",
   "mimetype": "text/x-python",
   "name": "python",
   "nbconvert_exporter": "python",
   "pygments_lexer": "ipython3",
   "version": "3.6.1"
  }
 },
 "nbformat": 4,
 "nbformat_minor": 2
}
