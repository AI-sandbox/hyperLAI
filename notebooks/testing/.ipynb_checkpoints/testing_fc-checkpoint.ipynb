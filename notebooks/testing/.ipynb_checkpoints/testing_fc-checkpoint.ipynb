{
 "cells": [
  {
   "cell_type": "code",
   "execution_count": 2,
   "metadata": {},
   "outputs": [],
   "source": [
    "import sys\n",
    "import unittest\n",
    "import numpy as np\n",
    "import torch\n",
    "sys.path.append(\"../../hyperLAI\")\n",
    "sys.path.append(\"../../../libraries\")\n",
    "from utils.sim_funcs import sim_func_dict\n",
    "from utils.model_utils import *\n",
    "from utils.generate_dataset import *\n",
    "from features.hyperLAIdataset import HyperLoader\n",
    "from models.fc_model import fc_model\n",
    "from utils.sim_funcs import sim_func_dict"
   ]
  },
  {
   "cell_type": "code",
   "execution_count": 4,
   "metadata": {
    "scrolled": true
   },
   "outputs": [
    {
     "name": "stdout",
     "output_type": "stream",
     "text": [
      "start reading ...\n",
      "File read: 317408 SNPs for 3558 individuals\n",
      "done loading vcf... Shape of vcf file is :  (317408, 3558, 2) Shape of vcf names file is (3558,)\n",
      "TSV loaded Index(['Sample', 'Population code', 'Population', 'Superpopulation code',\n",
      "       'Superpopulation', 'Source', 'Latitude', 'Longitude', 'Region',\n",
      "       'Sample Alias', 'Country', 'Town', 'Single_Ancestry'],\n",
      "      dtype='object') DF shape is  (3558, 13)\n",
      "Super population code are ,  ['EUR', 'EAS', 'AMR', 'SAS', 'AFR', 'OCE', 'WAS'] 7\n",
      "Population code are ,  ['GBR', 'FIN', 'CHS', 'PUR', 'CDX', 'CLM', 'IBS', 'PEL', 'PJL', 'KHV', 'ACB', 'GWD', 'ESN', 'BEB', 'MSL', 'STU', 'ITU', 'CEU', 'YRI', 'CHB', 'JPT', 'LWK', 'ASW', 'MXL', 'TSI', 'GIH', nan] 27\n",
      "Population names are ,  ['British', 'Finnish', 'Southern Han Chinese', 'Puerto Rican', 'Dai Chinese', 'Colombian', 'Spanish', 'Peruvian', 'Punjabi', 'Kinh Vietnamese', 'African-Caribbean', 'Gambian Mandinka', 'Esan', 'Bengali', 'Mende', 'Sri Lankan', 'Indian Telugu', 'CEPH', 'Yoruba', 'Han Chinese', 'Japanese', 'Luhya', 'African-American SW', 'Mexican-American', 'Tuscan', 'Gujarati', 'Brahui', 'Balochi', 'Hazara', 'Makrani', 'Sindhi', 'Pathan', 'Kalash', 'Burusho', 'Mbuti', 'Biaka', 'Bougainville', 'French', 'PapuanSepik', 'PapuanHighlands', 'Druze', 'Bedouin', 'Sardinian', 'Palestinian', 'Cambodian', 'Han', 'Orcadian', 'Surui', 'Maya', 'Russian', 'Mandenka', 'Yakut', 'San', 'BantuSouthAfrica', 'Karitiana', 'Pima', 'Tujia', 'Bergamo_Italian', 'Yi', 'Miao', 'Oroqen', 'Daur', 'Mongolian', 'Hezhen', 'Xibo', 'Mozabite', 'NorthernHan', 'Uygur', 'Dai', 'Lahu', 'She', 'Naxi', 'Tu', 'Basque', 'Adygei', 'BantuKenya', 'Dinka', 'Mixe', 'Australian', 'Crete', 'BantuHerero', 'BantuTswana', 'Khomani_San', 'Luo', 'Masai', 'Saharawi', 'Somali', 'Chane', 'Mixtec', 'Piapoco', 'Quechua', 'Zapotec', 'Aleut', 'Altaian', 'Chukchi', 'Eskimo_Chaplin', 'Eskimo_Naukan', 'Eskimo_Sireniki', 'Even', 'Itelman', 'Kyrgyz', 'Mansi', 'Tlingit', 'Tubalar', 'Ulchi', 'Ami', 'Atayal', 'Burmese', 'Korean', 'Thai', 'Lezgin', 'Dusun', 'Hawaiian', 'Igorot', 'Maori', 'Brahmin', 'Irula', 'Kapu', 'Khonda_Dora', 'Kusunda', 'Madiga', 'Mala', 'Relli', 'Yadava', 'Abkhasian', 'Albanian', 'Armenian', 'Bulgarian', 'Chechen', 'Czech', 'Estonian', 'Georgian_Mingrelian', 'Greek', 'Hungarian', 'Icelandic', 'Iranian', 'Iraqi_Jew', 'Jordanian', 'North_Ossetian', 'Norwegian', 'Polish', 'Saami', 'Samaritan', 'Tajik', 'Turkish_Cappadocia', 'Yemenite_Jew'] 146\n",
      "start reading ...\n",
      "File read: 317408 SNPs for 3558 individuals\n",
      "done loading vcf... Shape of vcf file is :  (317408, 3558, 2) Shape of vcf names file is (3558,)\n",
      "TSV loaded Index(['Sample', 'Population code', 'Population', 'Superpopulation code',\n",
      "       'Superpopulation', 'Source', 'Latitude', 'Longitude', 'Region',\n",
      "       'Sample Alias', 'Country', 'Town', 'Single_Ancestry'],\n",
      "      dtype='object') DF shape is  (3558, 13)\n",
      "Super population code are ,  ['EUR', 'EAS', 'AMR', 'SAS', 'AFR', 'OCE', 'WAS'] 7\n",
      "Population code are ,  ['GBR', 'FIN', 'CHS', 'PUR', 'CDX', 'CLM', 'IBS', 'PEL', 'PJL', 'KHV', 'ACB', 'GWD', 'ESN', 'BEB', 'MSL', 'STU', 'ITU', 'CEU', 'YRI', 'CHB', 'JPT', 'LWK', 'ASW', 'MXL', 'TSI', 'GIH', nan] 27\n",
      "Population names are ,  ['British', 'Finnish', 'Southern Han Chinese', 'Puerto Rican', 'Dai Chinese', 'Colombian', 'Spanish', 'Peruvian', 'Punjabi', 'Kinh Vietnamese', 'African-Caribbean', 'Gambian Mandinka', 'Esan', 'Bengali', 'Mende', 'Sri Lankan', 'Indian Telugu', 'CEPH', 'Yoruba', 'Han Chinese', 'Japanese', 'Luhya', 'African-American SW', 'Mexican-American', 'Tuscan', 'Gujarati', 'Brahui', 'Balochi', 'Hazara', 'Makrani', 'Sindhi', 'Pathan', 'Kalash', 'Burusho', 'Mbuti', 'Biaka', 'Bougainville', 'French', 'PapuanSepik', 'PapuanHighlands', 'Druze', 'Bedouin', 'Sardinian', 'Palestinian', 'Cambodian', 'Han', 'Orcadian', 'Surui', 'Maya', 'Russian', 'Mandenka', 'Yakut', 'San', 'BantuSouthAfrica', 'Karitiana', 'Pima', 'Tujia', 'Bergamo_Italian', 'Yi', 'Miao', 'Oroqen', 'Daur', 'Mongolian', 'Hezhen', 'Xibo', 'Mozabite', 'NorthernHan', 'Uygur', 'Dai', 'Lahu', 'She', 'Naxi', 'Tu', 'Basque', 'Adygei', 'BantuKenya', 'Dinka', 'Mixe', 'Australian', 'Crete', 'BantuHerero', 'BantuTswana', 'Khomani_San', 'Luo', 'Masai', 'Saharawi', 'Somali', 'Chane', 'Mixtec', 'Piapoco', 'Quechua', 'Zapotec', 'Aleut', 'Altaian', 'Chukchi', 'Eskimo_Chaplin', 'Eskimo_Naukan', 'Eskimo_Sireniki', 'Even', 'Itelman', 'Kyrgyz', 'Mansi', 'Tlingit', 'Tubalar', 'Ulchi', 'Ami', 'Atayal', 'Burmese', 'Korean', 'Thai', 'Lezgin', 'Dusun', 'Hawaiian', 'Igorot', 'Maori', 'Brahmin', 'Irula', 'Kapu', 'Khonda_Dora', 'Kusunda', 'Madiga', 'Mala', 'Relli', 'Yadava', 'Abkhasian', 'Albanian', 'Armenian', 'Bulgarian', 'Chechen', 'Czech', 'Estonian', 'Georgian_Mingrelian', 'Greek', 'Hungarian', 'Icelandic', 'Iranian', 'Iraqi_Jew', 'Jordanian', 'North_Ossetian', 'Norwegian', 'Polish', 'Saami', 'Samaritan', 'Tajik', 'Turkish_Cappadocia', 'Yemenite_Jew'] 146\n"
     ]
    }
   ],
   "source": [
    "data_dir = \"/scratch/users/patelas/hyperLAI/snp_data/\"\n",
    "chrom = 22\n",
    "dataset = HyperLoader(data_dir, [0,1,2,3,4,5,6], 22)\n",
    "chr22_data = load_dataset(data_dir + \"ref_final_beagle_phased_1kg_hgdp_sgdp_chr%s_hg19.vcf.gz\"%(chrom), \n",
    "                                     data_dir + \"reference_panel_metadata.tsv\", \"./\", chromosome=chrom, \n",
    "                                     verbose=True, filter_admixed=True, filter_missing_coord=True)\n",
    "# dataset_restricted = HyperLoader(data_dir, [0,1,2], 22)"
   ]
  },
  {
   "cell_type": "code",
   "execution_count": 7,
   "metadata": {},
   "outputs": [],
   "source": [
    "# dataset2 = HyperLoader(\"/scratch/users/patelas/hyperLAI/snp_data/whole_genome/variance_filtered_500000/\", [0,1,2,3,4,5,6], \"all\")\n",
    "\n",
    "\n"
   ]
  },
  {
   "cell_type": "code",
   "execution_count": 127,
   "metadata": {
    "collapsed": true
   },
   "outputs": [],
   "source": [
    "class TestDataLoader(unittest.TestCase):\n",
    "    def test_correct_pos(self):\n",
    "        '''\n",
    "        Tests that the indices of the data in the HyperLoader class match what they should\n",
    "        Specifically, in comparison to the indices of load_dataset\n",
    "        Since each individual has 2 haplotypes, index 12 of the dataloader should correspond to the start of the individual at index 6 from load_dataset\n",
    "        '''\n",
    "        #Extract the first and second sets of chromosomes for individual 6 (just first 5 snps)\n",
    "        chr22_snps_first = chr22_data[0][0:5,6,0]\n",
    "        chr22_snps_second = chr22_data[0][0:5,6,1]\n",
    "        #Extract what should be the corresponding sets of SNPs\n",
    "        dataset_snps_first = dataset[12][0][0:5].numpy()\n",
    "        dataset_snps_second = dataset[13][0][0:5].numpy()\n",
    "        #Ensure the SNPs are equal\n",
    "        self.assertEqual(np.sum(chr22_snps_first == dataset_snps_first), 5,\n",
    "                        \"Order between dataloader and initial data is wrong\")\n",
    "        self.assertEqual(np.sum(chr22_snps_second == dataset_snps_second), 5,\n",
    "                        \"Order between dataloader and initial data is wrong for second haplotype\")\n",
    "        #Ensure the suppop and pop labels match (only for index 12, we will do 13 in the next test)\n",
    "        self.assertEqual(chr22_data[1][6], dataset[12][2],\n",
    "                        \"Superpopulation labels don't match\")\n",
    "        self.assertEqual(chr22_data[2][6], dataset[12][1],\n",
    "                        \"Population labels don't match\")\n",
    "    def test_correct_repeat(self):\n",
    "        '''\n",
    "        Both indices 12 come from the same individual, so the labels should match. \n",
    "        Checks this is the case. \n",
    "        '''\n",
    "        #Ensure labels are same for both sets of chromosomes for one individual\n",
    "        self.assertEqual(dataset[12][1], dataset[13][1],\n",
    "                        \"Superpopulation labels don't match between the same individual\")\n",
    "        self.assertEqual(dataset[12][2], dataset[13][2],\n",
    "                        \"Population labels don't match between the same individual\")\n",
    "        #Do same for another individual\n",
    "        self.assertEqual(dataset[1256][1], dataset[1257][1],\n",
    "                        \"Superpopulation labels don't match between the same individual\")\n",
    "        self.assertEqual(dataset[1256][2], dataset[1257][2],\n",
    "                        \"Population labels don't match between the same individual\")\n",
    "    def test_restricted(self):\n",
    "        '''\n",
    "        Test that restricting to certain continents works\n",
    "        '''\n",
    "        #Make sure no unwanted labels are there\n",
    "        self.assertEqual(np.sum(np.isin(dataset_restricted.suppop_labels, [3,4,5,6])), 0,\n",
    "                        \"Contains labels from individuals that shouldn't be there\")\n",
    "        #Make sure SNP data has same size as label data\n",
    "        self.assertEqual(dataset_restricted.snps.shape[0], dataset_restricted.suppop_labels.shape[0],\n",
    "                        \"Individuals were not subsetted properly\")\n",
    "        \n",
    "        "
   ]
  },
  {
   "cell_type": "code",
   "execution_count": 129,
   "metadata": {},
   "outputs": [
    {
     "name": "stderr",
     "output_type": "stream",
     "text": [
      ".......\n",
      "----------------------------------------------------------------------\n",
      "Ran 7 tests in 0.009s\n",
      "\n",
      "OK\n"
     ]
    },
    {
     "data": {
      "text/plain": [
       "<unittest.main.TestProgram at 0x7ff97f9b8978>"
      ]
     },
     "execution_count": 129,
     "metadata": {},
     "output_type": "execute_result"
    }
   ],
   "source": [
    "unittest.main(argv=['first-arg-is-ignored'], exit=False)\n"
   ]
  },
  {
   "cell_type": "code",
   "execution_count": 126,
   "metadata": {},
   "outputs": [
    {
     "name": "stdout",
     "output_type": "stream",
     "text": [
      "fc_model(\n",
      "  (fc_layers): ModuleList(\n",
      "    (0): Sequential(\n",
      "      (0): Linear(in_features=1000, out_features=50, bias=True)\n",
      "      (1): ReLU()\n",
      "      (2): Dropout(p=0.1, inplace=False)\n",
      "    )\n",
      "    (1): Sequential(\n",
      "      (0): Linear(in_features=50, out_features=40, bias=True)\n",
      "      (1): ReLU()\n",
      "      (2): Dropout(p=0.2, inplace=False)\n",
      "    )\n",
      "    (2): Sequential(\n",
      "      (0): Linear(in_features=40, out_features=30, bias=True)\n",
      "      (1): ReLU()\n",
      "      (2): Dropout(p=0.1, inplace=False)\n",
      "    )\n",
      "  )\n",
      "  (final_layer): Linear(in_features=30, out_features=20, bias=True)\n",
      "  (HypLoss): HyperbolicLoss()\n",
      ")\n",
      "<bound method Module.named_parameters of fc_model(\n",
      "  (fc_layers): ModuleList(\n",
      "    (0): Sequential(\n",
      "      (0): Linear(in_features=1000, out_features=50, bias=True)\n",
      "      (1): ReLU()\n",
      "      (2): Dropout(p=0.1, inplace=False)\n",
      "    )\n",
      "    (1): Sequential(\n",
      "      (0): Linear(in_features=50, out_features=40, bias=True)\n",
      "      (1): ReLU()\n",
      "      (2): Dropout(p=0.2, inplace=False)\n",
      "    )\n",
      "    (2): Sequential(\n",
      "      (0): Linear(in_features=40, out_features=30, bias=True)\n",
      "      (1): ReLU()\n",
      "      (2): Dropout(p=0.1, inplace=False)\n",
      "    )\n",
      "  )\n",
      "  (final_layer): Linear(in_features=30, out_features=20, bias=True)\n",
      "  (HypLoss): HyperbolicLoss()\n",
      ")>\n"
     ]
    }
   ],
   "source": [
    "model = fc_model(1000, 3, [50,40,30], 20, \n",
    "                     [0.1, 0.2, 0.1], 0.01, 1e-3, 1e-2, 0.999)\n",
    "\n",
    "print(model)\n",
    "print(model.HypLoss.temperature)\n",
    "print(model.HypLoss.init_size)"
   ]
  },
  {
   "cell_type": "code",
   "execution_count": 32,
   "metadata": {
    "collapsed": true
   },
   "outputs": [],
   "source": [
    "class test_utils(unittest.TestCase):\n",
    "    '''\n",
    "    Testing various utilities that are important in the training process\n",
    "    '''\n",
    "    def test_triple_ids(self):\n",
    "        '''\n",
    "        Testing that for a total of 7 elements,\n",
    "        generate_triple_ids produces 35 unique elements\n",
    "        '''\n",
    "        ids = generate_triple_ids(7)\n",
    "        self.assertEqual(len(ids), 35)\n",
    "        self.assertEqual(len(np.unique(ids, axis=0)), 35)\n",
    "    def test_pairwise_similarities(self):\n",
    "        '''\n",
    "        Ensures that the pairwise similarities are calculated correctly\n",
    "        This also indirectly tests the correctness of the hamming distance function\n",
    "        '''\n",
    "        #Create fake \"SNP data\"\n",
    "        dummy_data = torch.tensor([[0,0,0,1],[1,0,0,1],[1,1,1,1]])\n",
    "        #Calculate similarity matrix using function\n",
    "        sim_mat = make_pairwise_similarities(dummy_data, sim_func_dict[\"hamming\"])\n",
    "        #Expected result\n",
    "        exp_result = np.array([[1, 0.75, 0.25], [0.75, 1, 0.5], [0.25, 0.5, 1]])\n",
    "        #Determine if the two are equal\n",
    "        self.assertEqual(np.sum(sim_mat.numpy() != exp_result), 0)\n",
    "    def test_trips_and_sims(self):\n",
    "        '''\n",
    "        Tests that the trips_and_sims function works as it should\n",
    "        '''\n",
    "        #Fake data\n",
    "        dummy_data = torch.tensor([[0,0,0,1],[1,0,0,1],[1,1,1,1], [0,0,0,0], [0,1,1,0]])\n",
    "        #Produce similarity matrix (already tested)\n",
    "        sim_mat = make_pairwise_similarities(dummy_data, sim_func_dict[\"hamming\"])\n",
    "        #Expected triples to be produced (already tested)\n",
    "        trips_exp = generate_triple_ids(5)\n",
    "        #Produce triples and similarities\n",
    "        trips, sims = trips_and_sims(dummy_data, sim_func_dict[\"hamming\"])\n",
    "        #Assert trips are equal\n",
    "        self.assertEqual(np.sum(np.array(trips_exp) != trips.numpy()), 0)\n",
    "        #What the last set of three similarities is expected to be\n",
    "        exp_last_sim = np.array([sim_mat[2,3], sim_mat[2,4], sim_mat[3,4]])\n",
    "        #Assert sims are equal\n",
    "        self.assertEqual(np.sum(exp_last_sim != sims.numpy()[-1]), 0)\n",
    "    def test_train_test_split(self):\n",
    "        '''\n",
    "        Makes sure the results of the train-test split are reproducible\n",
    "        '''\n",
    "        #Run it twice\n",
    "        tr1, va1, te1 = train_valid_test(10, 0.8, 0.1)\n",
    "        tr2, va2, te2 = train_valid_test(10, 0.8, 0.1)\n",
    "        #Assert valid and test are equal (so train is as well) for both runs\n",
    "        self.assertEqual(va1, va2)\n",
    "        self.assertEqual(te1, te2)\n",
    "    def test_variance(self):\n",
    "        class DummyLoader():\n",
    "            def __init__(self, dummy_data):\n",
    "                self.snps = dummy_data\n",
    "        fake_snps = np.array([[1,1,1,1,0,0,0,0], [1,0,1,0,1,1,1,1], [1,0,0,1,0,0,0,0], [0,0,0,0,1,1,1,1]]).T\n",
    "        dummy_data1 = DummyLoader(fake_snps)        \n",
    "        dummy_data2 = DummyLoader(fake_snps)\n",
    "        variance_filter(dummy_data1, [0,1,2,3], 2)\n",
    "        variance_filter(dummy_data2, [0,1,2,3,4,5,6,7], 2)\n",
    "        self.assertEqual(np.sum(dummy_data1.snps != fake_snps[:,[2,1]]), 0)\n",
    "        self.assertEqual(np.sum(dummy_data2.snps != fake_snps[:,[3,0]]), 0)\n",
    "        \n",
    "        \n",
    "        \n",
    "        \n",
    "        "
   ]
  },
  {
   "cell_type": "code",
   "execution_count": 33,
   "metadata": {},
   "outputs": [
    {
     "name": "stderr",
     "output_type": "stream",
     "text": [
      ".....\n",
      "----------------------------------------------------------------------\n",
      "Ran 5 tests in 0.007s\n",
      "\n",
      "OK\n"
     ]
    },
    {
     "data": {
      "text/plain": [
       "<unittest.main.TestProgram at 0x7f19c3d90cc0>"
      ]
     },
     "execution_count": 33,
     "metadata": {},
     "output_type": "execute_result"
    }
   ],
   "source": [
    "unittest.main(argv=['first-arg-is-ignored'], exit=False)\n"
   ]
  },
  {
   "cell_type": "code",
   "execution_count": 86,
   "metadata": {
    "collapsed": true
   },
   "outputs": [],
   "source": [
    "ids = generate_triple_ids(7)"
   ]
  },
  {
   "cell_type": "code",
   "execution_count": 7,
   "metadata": {
    "collapsed": true
   },
   "outputs": [],
   "source": [
    "dummy_data= DummyLoader(np.array([[1,1,1,1,0,0,0,0], [1,0,1,0,1,1,1,1], [1,0,0,1,0,0,0,0], [0,0,0,0,1,1,1,1]]).T)"
   ]
  },
  {
   "cell_type": "code",
   "execution_count": 9,
   "metadata": {},
   "outputs": [
    {
     "ename": "AttributeError",
     "evalue": "'NoneType' object has no attribute 'snps'",
     "output_type": "error",
     "traceback": [
      "\u001b[0;31m---------------------------------------------------------------------------\u001b[0m",
      "\u001b[0;31mAttributeError\u001b[0m                            Traceback (most recent call last)",
      "\u001b[0;32m<ipython-input-9-262b1dbffc59>\u001b[0m in \u001b[0;36m<module>\u001b[0;34m()\u001b[0m\n\u001b[0;32m----> 1\u001b[0;31m \u001b[0mvariance_filter\u001b[0m\u001b[0;34m(\u001b[0m\u001b[0mdummy_data\u001b[0m\u001b[0;34m,\u001b[0m \u001b[0;34m[\u001b[0m\u001b[0;36m0\u001b[0m\u001b[0;34m,\u001b[0m\u001b[0;36m1\u001b[0m\u001b[0;34m,\u001b[0m\u001b[0;36m2\u001b[0m\u001b[0;34m,\u001b[0m\u001b[0;36m3\u001b[0m\u001b[0;34m]\u001b[0m\u001b[0;34m,\u001b[0m \u001b[0;36m2\u001b[0m\u001b[0;34m)\u001b[0m\u001b[0;34m.\u001b[0m\u001b[0msnps\u001b[0m\u001b[0;34m\u001b[0m\u001b[0m\n\u001b[0m",
      "\u001b[0;31mAttributeError\u001b[0m: 'NoneType' object has no attribute 'snps'"
     ]
    }
   ],
   "source": [
    "variance_filter(dummy_data, [0,1,2,3], 2)"
   ]
  },
  {
   "cell_type": "code",
   "execution_count": 5,
   "metadata": {
    "collapsed": true
   },
   "outputs": [],
   "source": [
    "class DummyLoader():\n",
    "    def __init__(self, dummy_data):\n",
    "        self.snps = dummy_data"
   ]
  },
  {
   "cell_type": "code",
   "execution_count": 2,
   "metadata": {},
   "outputs": [
    {
     "ename": "NameError",
     "evalue": "name 'dummy_data' is not defined",
     "output_type": "error",
     "traceback": [
      "\u001b[0;31m---------------------------------------------------------------------------\u001b[0m",
      "\u001b[0;31mNameError\u001b[0m                                 Traceback (most recent call last)",
      "\u001b[0;32m<ipython-input-2-cbedaf9d9a05>\u001b[0m in \u001b[0;36m<module>\u001b[0;34m()\u001b[0m\n\u001b[0;32m----> 1\u001b[0;31m \u001b[0mdummy_data\u001b[0m\u001b[0;34m.\u001b[0m\u001b[0msnps\u001b[0m\u001b[0;34m\u001b[0m\u001b[0m\n\u001b[0m",
      "\u001b[0;31mNameError\u001b[0m: name 'dummy_data' is not defined"
     ]
    }
   ],
   "source": [
    "dummy_data.snps"
   ]
  },
  {
   "cell_type": "code",
   "execution_count": null,
   "metadata": {
    "collapsed": true
   },
   "outputs": [],
   "source": []
  },
  {
   "cell_type": "code",
   "execution_count": null,
   "metadata": {
    "collapsed": true
   },
   "outputs": [],
   "source": []
  }
 ],
 "metadata": {
  "kernelspec": {
   "display_name": "Python 3",
   "language": "python",
   "name": "python3"
  },
  "language_info": {
   "codemirror_mode": {
    "name": "ipython",
    "version": 3
   },
   "file_extension": ".py",
   "mimetype": "text/x-python",
   "name": "python",
   "nbconvert_exporter": "python",
   "pygments_lexer": "ipython3",
   "version": "3.6.1"
  }
 },
 "nbformat": 4,
 "nbformat_minor": 2
}
